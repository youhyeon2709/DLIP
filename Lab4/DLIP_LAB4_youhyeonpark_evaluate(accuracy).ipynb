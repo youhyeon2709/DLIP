{
  "nbformat": 4,
  "nbformat_minor": 0,
  "metadata": {
    "colab": {
      "provenance": []
    },
    "kernelspec": {
      "name": "python3",
      "display_name": "Python 3"
    },
    "language_info": {
      "name": "python"
    }
  },
  "cells": [
    {
      "cell_type": "code",
      "execution_count": null,
      "metadata": {
        "colab": {
          "base_uri": "https://localhost:8080/",
          "height": 73
        },
        "id": "snRGb3eQPPIW",
        "outputId": "acc5df47-2ee8-4db8-c6c9-c8b318c911c3"
      },
      "outputs": [
        {
          "output_type": "stream",
          "name": "stdout",
          "text": [
            "Drive already mounted at /content/drive; to attempt to forcibly remount, call drive.mount(\"/content/drive\", force_remount=True).\n"
          ]
        },
        {
          "output_type": "execute_result",
          "data": {
            "text/plain": [
              "'/content/drive/MyDrive/DLIP/Lab4'"
            ],
            "application/vnd.google.colaboratory.intrinsic+json": {
              "type": "string"
            }
          },
          "metadata": {},
          "execution_count": 2
        }
      ],
      "source": [
        "import os\n",
        "from google.colab import drive\n",
        "drive.mount('/content/drive')\n",
        "root_path = '/content/drive/MyDrive/DLIP/Lab4'  #change dir to your project folder\n",
        "os.chdir(root_path)  #change dir\n",
        "os.getcwd()"
      ]
    },
    {
      "cell_type": "code",
      "source": [
        "import numpy as np\n",
        "import pandas as pd\n",
        "from sklearn.metrics import confusion_matrix\n"
      ],
      "metadata": {
        "id": "vSH6zWKkPmTT"
      },
      "execution_count": null,
      "outputs": []
    },
    {
      "cell_type": "code",
      "source": [
        "%cd /content/drive/MyDrive/DLIP/Lab4"
      ],
      "metadata": {
        "colab": {
          "base_uri": "https://localhost:8080/"
        },
        "id": "vBmdqYlGRHLB",
        "outputId": "b3f64910-38b6-44d0-c5b3-67de6d64b59d"
      },
      "execution_count": null,
      "outputs": [
        {
          "output_type": "stream",
          "name": "stdout",
          "text": [
            "/content\n"
          ]
        }
      ]
    },
    {
      "cell_type": "code",
      "source": [
        "with open('groundtruth.txt', 'r') as file:\n",
        "    ground_truth= file.readlines()\n",
        "\n",
        "with open('counting_result.txt', 'r') as file:\n",
        "    detected = file.readlines()\n"
      ],
      "metadata": {
        "id": "dV0yLxLuRRmi"
      },
      "execution_count": null,
      "outputs": []
    },
    {
      "cell_type": "code",
      "source": [
        "# 데이터 정리\n",
        "ground_truth = [int(value.strip().split(',')[1]) for value in ground_truth]\n",
        "detected = [int(value.strip().split()[1]) for value in detected]\n",
        "\n",
        "# 공통된 데이터 샘플만 사용\n",
        "min_samples = min(len(ground_truth), len(detected))\n",
        "ground_truth = ground_truth[:min_samples]\n",
        "detected = detected[:min_samples]\n",
        "\n",
        "# Accuracy 계산\n",
        "accuracy = np.mean(np.array(ground_truth) == np.array(detected))\n",
        "\n",
        "# 결과 출력\n",
        "print(\"Accuracy:\", accuracy)"
      ],
      "metadata": {
        "colab": {
          "base_uri": "https://localhost:8080/"
        },
        "id": "K2sKf4SyPrSX",
        "outputId": "4a215e38-020c-4886-8912-e3afb6b2a552"
      },
      "execution_count": null,
      "outputs": [
        {
          "output_type": "stream",
          "name": "stdout",
          "text": [
            "Accuracy: 0.9960026648900733\n"
          ]
        }
      ]
    }
  ]
}